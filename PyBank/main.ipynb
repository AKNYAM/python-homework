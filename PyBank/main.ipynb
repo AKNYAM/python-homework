{
 "cells": [
  {
   "cell_type": "code",
   "execution_count": 1,
   "id": "2e2da8eb-a099-451b-b995-268d7f73116a",
   "metadata": {},
   "outputs": [
    {
     "name": "stdout",
     "output_type": "stream",
     "text": [
      "/Users/akshaynyamala/Documents/Assignmnet 2\n"
     ]
    }
   ],
   "source": [
    "#Importing Dependencies\n",
    "\n",
    "import os\n",
    "working_directory = os.getcwd()\n",
    "print(working_directory)"
   ]
  },
  {
   "cell_type": "code",
   "execution_count": 2,
   "id": "3b64efd6-876e-41db-b561-5f23c1e3769a",
   "metadata": {},
   "outputs": [],
   "source": [
    "#Creating a file path\n",
    "\n",
    "import csv\n",
    "file_to_load = working_directory + \"/budget_data.csv\""
   ]
  },
  {
   "cell_type": "code",
   "execution_count": 11,
   "id": "80af3af0-7885-4041-84e5-b228c6e85b9e",
   "metadata": {},
   "outputs": [],
   "source": [
    "#Creating output folder name\n",
    "\n",
    "output_path = \"budget_analysis.txt\""
   ]
  },
  {
   "cell_type": "code",
   "execution_count": 4,
   "id": "8e0a8b42-5f5a-4acf-8adb-039ff663624d",
   "metadata": {},
   "outputs": [],
   "source": [
    "#Parameters needed to support the code\n",
    "\n",
    "total_months = 0\n",
    "total_revenue = 0\n",
    "revenue = []\n",
    "previous_revenue = 0\n",
    "month_of_change = []\n",
    "revenue_change = 0\n",
    "greatest_decrease = [\"\", 9999999]\n",
    "greatest_increase = [\"\", 0]\n",
    "revenue_change_list = []\n",
    "revenue_average = 0"
   ]
  },
  {
   "cell_type": "code",
   "execution_count": 6,
   "id": "376c879b-6e3f-40da-a2e0-e473f8fd0b2c",
   "metadata": {},
   "outputs": [],
   "source": [
    "#converting CSV into list and dictionaries\n",
    "\n",
    "with open(file_to_load) as revenue_data:\n",
    "    reader = csv.DictReader(revenue_data)\n",
    "    \n",
    "    for row in reader:\n",
    "        \n",
    "#Calculating number of months and total revenue        \n",
    "        total_months = total_months + 1\n",
    "        total_revenue = total_revenue + int(row[\"Profit/Losses\"])\n",
    "\n",
    "#Calculating revenue change between months over the period        \n",
    "        revenue_change = float(row[\"Profit/Losses\"])- previous_revenue\n",
    "        previous_revenue = float(row[\"Profit/Losses\"])\n",
    "        revenue_change_list = revenue_change_list + [revenue_change]\n",
    "        month_of_change = [month_of_change] + [row[\"Date\"]]\n",
    "        \n",
    "#Calculating the greatest increase in revenue and the month       \n",
    "        if revenue_change>greatest_increase[1]:\n",
    "            greatest_increase[1]= revenue_change\n",
    "            greatest_increase[0] = row['Date']\n",
    "\n",
    "#Calculating the greatest decrease in revenue and the month \n",
    "        if revenue_change<greatest_decrease[1]:\n",
    "            greatest_decrease[1]= revenue_change\n",
    "            greatest_decrease[0] = row['Date']\n",
    "            \n",
    "#Calculating the revenue average formula            \n",
    "            revenue_average = sum(revenue_change_list)/len(revenue_change_list) "
   ]
  },
  {
   "cell_type": "code",
   "execution_count": 7,
   "id": "3c555329-65cd-4671-83a3-d83eeb985b44",
   "metadata": {},
   "outputs": [],
   "source": [
    "output = (\n",
    "    f\"\\nFinancial Analysis\\n\"\n",
    "    f\"----------------------------\\n\"\n",
    "    f\"Total Months: {total_months}\\n\"\n",
    "    f\"Total Revenue: ${total_revenue}\\n\"\n",
    "    f\"Average Revenue Change: ${revenue_average}\\n\"\n",
    "    f\"Greatest Increase in Revenue: {greatest_increase[0]} (${greatest_increase[1]})\\n\"\n",
    "    f\"Greatest Decrease in Revenue: {greatest_decrease[0]} (${greatest_decrease[1]})\\n\")"
   ]
  },
  {
   "cell_type": "code",
   "execution_count": 8,
   "id": "3ff4974c-d92d-4ecf-947a-d536d20591c5",
   "metadata": {},
   "outputs": [
    {
     "name": "stdout",
     "output_type": "stream",
     "text": [
      "\n",
      "Financial Analysis\n",
      "----------------------------\n",
      "Total Months: 86\n",
      "Total Revenue: $38382578\n",
      "Average Revenue Change: $-26582.777777777777\n",
      "Greatest Increase in Revenue: Feb-2012 ($1926159.0)\n",
      "Greatest Decrease in Revenue: Sep-2013 ($-2196167.0)\n",
      "\n"
     ]
    }
   ],
   "source": [
    "print(output)"
   ]
  },
  {
   "cell_type": "code",
   "execution_count": 12,
   "id": "94f7677e-518d-4012-8c36-97415fceadc4",
   "metadata": {},
   "outputs": [],
   "source": [
    "with open(output_path, \"w\") as file:\n",
    "    file.write(output)"
   ]
  },
  {
   "cell_type": "code",
   "execution_count": null,
   "id": "e87fc2b1-b574-42fa-a7bc-62af4895583b",
   "metadata": {},
   "outputs": [],
   "source": []
  }
 ],
 "metadata": {
  "kernelspec": {
   "display_name": "Python 3 (ipykernel)",
   "language": "python",
   "name": "python3"
  },
  "language_info": {
   "codemirror_mode": {
    "name": "ipython",
    "version": 3
   },
   "file_extension": ".py",
   "mimetype": "text/x-python",
   "name": "python",
   "nbconvert_exporter": "python",
   "pygments_lexer": "ipython3",
   "version": "3.9.12"
  }
 },
 "nbformat": 4,
 "nbformat_minor": 5
}
